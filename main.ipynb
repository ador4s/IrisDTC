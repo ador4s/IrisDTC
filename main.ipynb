{
 "cells": [
  {
   "cell_type": "code",
   "execution_count": 1,
   "metadata": {},
   "outputs": [
    {
     "data": {
      "text/plain": [
       "'\\nnote\\n2025.03.13\\n미니 프로젝트 시작.\\n상관계수를 직접 구해보는 과정을 해보고 싶었으나 아직 통계와 분석에 대한 이해가 떨어져 바로 결정트리 구현을 진행함.\\n2025.03.14\\n넘파이 없이 구현을 목표로 했으나 특징벡터 4개, 클래스 3개로 계산량이 너무 커서 넘파이를 사용해 구현,\\n추후 상관계수 계산 후 특징벡터 2개를 이용한 이진, 혹은 3 클래스 분류를 진행하고자함.\\n'"
      ]
     },
     "execution_count": 1,
     "metadata": {},
     "output_type": "execute_result"
    }
   ],
   "source": [
    "\"\"\"\n",
    "note\n",
    "2025.03.13\n",
    "미니 프로젝트 시작.\n",
    "상관계수를 직접 구해보는 과정을 해보고 싶었으나 아직 통계와 분석에 대한 이해가 떨어져 바로 결정트리 구현을 진행함.\n",
    "2025.03.14\n",
    "넘파이 없이 구현을 목표로 했으나 특징벡터 4개, 클래스 3개로 계산량이 너무 커서 넘파이를 사용해 구현,\n",
    "추후 상관계수 계산 후 특징벡터 2개를 이용한 이진, 혹은 3 클래스 분류를 진행하고자함.\n",
    "\"\"\""
   ]
  },
  {
   "cell_type": "code",
   "execution_count": 101,
   "metadata": {},
   "outputs": [],
   "source": [
    "from typing import Tuple\n",
    "import csv\n",
    "import numpy as np\n",
    "\n",
    "np.random.seed(0)"
   ]
  },
  {
   "cell_type": "code",
   "execution_count": 126,
   "metadata": {},
   "outputs": [],
   "source": [
    "f = open(\"Iris.csv\")\n",
    "rdr = csv.reader(f)"
   ]
  },
  {
   "cell_type": "code",
   "execution_count": 127,
   "metadata": {},
   "outputs": [],
   "source": [
    "csv_data = [i for i in rdr]\n",
    "columns = csv_data[0]\n",
    "data = csv_data[1:]"
   ]
  },
  {
   "cell_type": "code",
   "execution_count": 128,
   "metadata": {},
   "outputs": [
    {
     "data": {
      "text/plain": [
       "(['Id',\n",
       "  'SepalLengthCm',\n",
       "  'SepalWidthCm',\n",
       "  'PetalLengthCm',\n",
       "  'PetalWidthCm',\n",
       "  'Species'],\n",
       " 150)"
      ]
     },
     "execution_count": 128,
     "metadata": {},
     "output_type": "execute_result"
    }
   ],
   "source": [
    "columns, len(data)"
   ]
  },
  {
   "cell_type": "code",
   "execution_count": 129,
   "metadata": {},
   "outputs": [
    {
     "data": {
      "text/plain": [
       "{'Iris-setosa', 'Iris-versicolor', 'Iris-virginica'}"
      ]
     },
     "execution_count": 129,
     "metadata": {},
     "output_type": "execute_result"
    }
   ],
   "source": [
    "set(i[5] for i in data)"
   ]
  },
  {
   "cell_type": "code",
   "execution_count": 133,
   "metadata": {},
   "outputs": [
    {
     "data": {
      "text/plain": [
       "(array([['0', '5.1', '3.5', '1.4', '0.2', '1'],\n",
       "        ['1', '4.9', '3.0', '1.4', '0.2', '1'],\n",
       "        ['2', '4.7', '3.2', '1.3', '0.2', '1'],\n",
       "        ['3', '4.6', '3.1', '1.5', '0.2', '1'],\n",
       "        ['4', '5.0', '3.6', '1.4', '0.2', '1'],\n",
       "        ['5', '5.4', '3.9', '1.7', '0.4', '1'],\n",
       "        ['6', '4.6', '3.4', '1.4', '0.3', '1'],\n",
       "        ['7', '5.0', '3.4', '1.5', '0.2', '1'],\n",
       "        ['8', '4.4', '2.9', '1.4', '0.2', '1'],\n",
       "        ['9', '4.9', '3.1', '1.5', '0.1', '1'],\n",
       "        ['10', '5.4', '3.7', '1.5', '0.2', '1'],\n",
       "        ['11', '4.8', '3.4', '1.6', '0.2', '1'],\n",
       "        ['12', '4.8', '3.0', '1.4', '0.1', '1'],\n",
       "        ['13', '4.3', '3.0', '1.1', '0.1', '1'],\n",
       "        ['14', '5.8', '4.0', '1.2', '0.2', '1'],\n",
       "        ['15', '5.7', '4.4', '1.5', '0.4', '1'],\n",
       "        ['16', '5.4', '3.9', '1.3', '0.4', '1'],\n",
       "        ['17', '5.1', '3.5', '1.4', '0.3', '1'],\n",
       "        ['18', '5.7', '3.8', '1.7', '0.3', '1'],\n",
       "        ['19', '5.1', '3.8', '1.5', '0.3', '1'],\n",
       "        ['20', '5.4', '3.4', '1.7', '0.2', '1'],\n",
       "        ['21', '5.1', '3.7', '1.5', '0.4', '1'],\n",
       "        ['22', '4.6', '3.6', '1.0', '0.2', '1'],\n",
       "        ['23', '5.1', '3.3', '1.7', '0.5', '1'],\n",
       "        ['24', '4.8', '3.4', '1.9', '0.2', '1'],\n",
       "        ['25', '5.0', '3.0', '1.6', '0.2', '1'],\n",
       "        ['26', '5.0', '3.4', '1.6', '0.4', '1'],\n",
       "        ['27', '5.2', '3.5', '1.5', '0.2', '1'],\n",
       "        ['28', '5.2', '3.4', '1.4', '0.2', '1'],\n",
       "        ['29', '4.7', '3.2', '1.6', '0.2', '1'],\n",
       "        ['30', '4.8', '3.1', '1.6', '0.2', '1'],\n",
       "        ['31', '5.4', '3.4', '1.5', '0.4', '1'],\n",
       "        ['32', '5.2', '4.1', '1.5', '0.1', '1'],\n",
       "        ['33', '5.5', '4.2', '1.4', '0.2', '1'],\n",
       "        ['34', '4.9', '3.1', '1.5', '0.1', '1'],\n",
       "        ['35', '5.0', '3.2', '1.2', '0.2', '1'],\n",
       "        ['36', '5.5', '3.5', '1.3', '0.2', '1'],\n",
       "        ['37', '4.9', '3.1', '1.5', '0.1', '1'],\n",
       "        ['38', '4.4', '3.0', '1.3', '0.2', '1'],\n",
       "        ['39', '5.1', '3.4', '1.5', '0.2', '1'],\n",
       "        ['40', '5.0', '3.5', '1.3', '0.3', '1'],\n",
       "        ['41', '4.5', '2.3', '1.3', '0.3', '1'],\n",
       "        ['42', '4.4', '3.2', '1.3', '0.2', '1'],\n",
       "        ['43', '5.0', '3.5', '1.6', '0.6', '1'],\n",
       "        ['44', '5.1', '3.8', '1.9', '0.4', '1'],\n",
       "        ['45', '4.8', '3.0', '1.4', '0.3', '1'],\n",
       "        ['46', '5.1', '3.8', '1.6', '0.2', '1'],\n",
       "        ['47', '4.6', '3.2', '1.4', '0.2', '1'],\n",
       "        ['48', '5.3', '3.7', '1.5', '0.2', '1'],\n",
       "        ['49', '5.0', '3.3', '1.4', '0.2', '1'],\n",
       "        ['50', '7.0', '3.2', '4.7', '1.4', '0'],\n",
       "        ['51', '6.4', '3.2', '4.5', '1.5', '0'],\n",
       "        ['52', '6.9', '3.1', '4.9', '1.5', '0'],\n",
       "        ['53', '5.5', '2.3', '4.0', '1.3', '0'],\n",
       "        ['54', '6.5', '2.8', '4.6', '1.5', '0'],\n",
       "        ['55', '5.7', '2.8', '4.5', '1.3', '0'],\n",
       "        ['56', '6.3', '3.3', '4.7', '1.6', '0'],\n",
       "        ['57', '4.9', '2.4', '3.3', '1.0', '0'],\n",
       "        ['58', '6.6', '2.9', '4.6', '1.3', '0'],\n",
       "        ['59', '5.2', '2.7', '3.9', '1.4', '0'],\n",
       "        ['60', '5.0', '2.0', '3.5', '1.0', '0'],\n",
       "        ['61', '5.9', '3.0', '4.2', '1.5', '0'],\n",
       "        ['62', '6.0', '2.2', '4.0', '1.0', '0'],\n",
       "        ['63', '6.1', '2.9', '4.7', '1.4', '0'],\n",
       "        ['64', '5.6', '2.9', '3.6', '1.3', '0'],\n",
       "        ['65', '6.7', '3.1', '4.4', '1.4', '0'],\n",
       "        ['66', '5.6', '3.0', '4.5', '1.5', '0'],\n",
       "        ['67', '5.8', '2.7', '4.1', '1.0', '0'],\n",
       "        ['68', '6.2', '2.2', '4.5', '1.5', '0'],\n",
       "        ['69', '5.6', '2.5', '3.9', '1.1', '0'],\n",
       "        ['70', '5.9', '3.2', '4.8', '1.8', '0'],\n",
       "        ['71', '6.1', '2.8', '4.0', '1.3', '0'],\n",
       "        ['72', '6.3', '2.5', '4.9', '1.5', '0'],\n",
       "        ['73', '6.1', '2.8', '4.7', '1.2', '0'],\n",
       "        ['74', '6.4', '2.9', '4.3', '1.3', '0'],\n",
       "        ['75', '6.6', '3.0', '4.4', '1.4', '0'],\n",
       "        ['76', '6.8', '2.8', '4.8', '1.4', '0'],\n",
       "        ['77', '6.7', '3.0', '5.0', '1.7', '0'],\n",
       "        ['78', '6.0', '2.9', '4.5', '1.5', '0'],\n",
       "        ['79', '5.7', '2.6', '3.5', '1.0', '0'],\n",
       "        ['80', '5.5', '2.4', '3.8', '1.1', '0'],\n",
       "        ['81', '5.5', '2.4', '3.7', '1.0', '0'],\n",
       "        ['82', '5.8', '2.7', '3.9', '1.2', '0'],\n",
       "        ['83', '6.0', '2.7', '5.1', '1.6', '0'],\n",
       "        ['84', '5.4', '3.0', '4.5', '1.5', '0'],\n",
       "        ['85', '6.0', '3.4', '4.5', '1.6', '0'],\n",
       "        ['86', '6.7', '3.1', '4.7', '1.5', '0'],\n",
       "        ['87', '6.3', '2.3', '4.4', '1.3', '0'],\n",
       "        ['88', '5.6', '3.0', '4.1', '1.3', '0'],\n",
       "        ['89', '5.5', '2.5', '4.0', '1.3', '0'],\n",
       "        ['90', '5.5', '2.6', '4.4', '1.2', '0'],\n",
       "        ['91', '6.1', '3.0', '4.6', '1.4', '0'],\n",
       "        ['92', '5.8', '2.6', '4.0', '1.2', '0'],\n",
       "        ['93', '5.0', '2.3', '3.3', '1.0', '0'],\n",
       "        ['94', '5.6', '2.7', '4.2', '1.3', '0'],\n",
       "        ['95', '5.7', '3.0', '4.2', '1.2', '0'],\n",
       "        ['96', '5.7', '2.9', '4.2', '1.3', '0'],\n",
       "        ['97', '6.2', '2.9', '4.3', '1.3', '0'],\n",
       "        ['98', '5.1', '2.5', '3.0', '1.1', '0'],\n",
       "        ['99', '5.7', '2.8', '4.1', '1.3', '0'],\n",
       "        ['100', '6.3', '3.3', '6.0', '2.5', '2'],\n",
       "        ['101', '5.8', '2.7', '5.1', '1.9', '2'],\n",
       "        ['102', '7.1', '3.0', '5.9', '2.1', '2'],\n",
       "        ['103', '6.3', '2.9', '5.6', '1.8', '2'],\n",
       "        ['104', '6.5', '3.0', '5.8', '2.2', '2'],\n",
       "        ['105', '7.6', '3.0', '6.6', '2.1', '2'],\n",
       "        ['106', '4.9', '2.5', '4.5', '1.7', '2'],\n",
       "        ['107', '7.3', '2.9', '6.3', '1.8', '2'],\n",
       "        ['108', '6.7', '2.5', '5.8', '1.8', '2'],\n",
       "        ['109', '7.2', '3.6', '6.1', '2.5', '2'],\n",
       "        ['110', '6.5', '3.2', '5.1', '2.0', '2'],\n",
       "        ['111', '6.4', '2.7', '5.3', '1.9', '2'],\n",
       "        ['112', '6.8', '3.0', '5.5', '2.1', '2'],\n",
       "        ['113', '5.7', '2.5', '5.0', '2.0', '2'],\n",
       "        ['114', '5.8', '2.8', '5.1', '2.4', '2'],\n",
       "        ['115', '6.4', '3.2', '5.3', '2.3', '2'],\n",
       "        ['116', '6.5', '3.0', '5.5', '1.8', '2'],\n",
       "        ['117', '7.7', '3.8', '6.7', '2.2', '2'],\n",
       "        ['118', '7.7', '2.6', '6.9', '2.3', '2'],\n",
       "        ['119', '6.0', '2.2', '5.0', '1.5', '2'],\n",
       "        ['120', '6.9', '3.2', '5.7', '2.3', '2'],\n",
       "        ['121', '5.6', '2.8', '4.9', '2.0', '2'],\n",
       "        ['122', '7.7', '2.8', '6.7', '2.0', '2'],\n",
       "        ['123', '6.3', '2.7', '4.9', '1.8', '2'],\n",
       "        ['124', '6.7', '3.3', '5.7', '2.1', '2'],\n",
       "        ['125', '7.2', '3.2', '6.0', '1.8', '2'],\n",
       "        ['126', '6.2', '2.8', '4.8', '1.8', '2'],\n",
       "        ['127', '6.1', '3.0', '4.9', '1.8', '2'],\n",
       "        ['128', '6.4', '2.8', '5.6', '2.1', '2'],\n",
       "        ['129', '7.2', '3.0', '5.8', '1.6', '2'],\n",
       "        ['130', '7.4', '2.8', '6.1', '1.9', '2'],\n",
       "        ['131', '7.9', '3.8', '6.4', '2.0', '2'],\n",
       "        ['132', '6.4', '2.8', '5.6', '2.2', '2'],\n",
       "        ['133', '6.3', '2.8', '5.1', '1.5', '2'],\n",
       "        ['134', '6.1', '2.6', '5.6', '1.4', '2'],\n",
       "        ['135', '7.7', '3.0', '6.1', '2.3', '2'],\n",
       "        ['136', '6.3', '3.4', '5.6', '2.4', '2'],\n",
       "        ['137', '6.4', '3.1', '5.5', '1.8', '2'],\n",
       "        ['138', '6.0', '3.0', '4.8', '1.8', '2'],\n",
       "        ['139', '6.9', '3.1', '5.4', '2.1', '2'],\n",
       "        ['140', '6.7', '3.1', '5.6', '2.4', '2'],\n",
       "        ['141', '6.9', '3.1', '5.1', '2.3', '2'],\n",
       "        ['142', '5.8', '2.7', '5.1', '1.9', '2'],\n",
       "        ['143', '6.8', '3.2', '5.9', '2.3', '2'],\n",
       "        ['144', '6.7', '3.3', '5.7', '2.5', '2'],\n",
       "        ['145', '6.7', '3.0', '5.2', '2.3', '2'],\n",
       "        ['146', '6.3', '2.5', '5.0', '1.9', '2'],\n",
       "        ['147', '6.5', '3.0', '5.2', '2.0', '2'],\n",
       "        ['148', '6.2', '3.4', '5.4', '2.3', '2'],\n",
       "        ['149', '5.9', '3.0', '5.1', '1.8', '2']], dtype='<U11'),\n",
       " array(['Id', 'SepalLength', 'SepalWidth', 'PetalLength', 'PetalWidth',\n",
       "        'target'], dtype='<U11'),\n",
       " (150, 6))"
      ]
     },
     "execution_count": 133,
     "metadata": {},
     "output_type": "execute_result"
    }
   ],
   "source": [
    "_target = {'Iris-versicolor':0, 'Iris-setosa':1, 'Iris-virginica':2}    # Sepal: 꽃받침, Petal: 꽃잎\n",
    "\n",
    "data = np.array([ [id, *i[1:-1], _target[i[-1]] ] for id, i in enumerate(data) ])\n",
    "columns = np.array(['Id', 'SepalLength', 'SepalWidth', 'PetalLength', 'PetalWidth', 'target'])\n",
    "\n",
    "data, columns, data.shape"
   ]
  },
  {
   "cell_type": "code",
   "execution_count": 123,
   "metadata": {},
   "outputs": [
    {
     "data": {
      "text/plain": [
       "'\\n2025.03.13\\n상관계수를 직접 구해보는 과정을 해보고 싶었으나 아직 통계와 분석에 대한 이해가 떨어져 바로 결정트리 구현을 진행함.\\n'"
      ]
     },
     "execution_count": 123,
     "metadata": {},
     "output_type": "execute_result"
    }
   ],
   "source": [
    "\"\"\"\n",
    "2025.03.13\n",
    "상관계수를 직접 구해보는 과정을 해보고 싶었으나 아직 통계와 분석에 대한 이해가 떨어져 바로 결정트리 구현을 진행함.\n",
    "\"\"\""
   ]
  },
  {
   "cell_type": "code",
   "execution_count": 134,
   "metadata": {},
   "outputs": [],
   "source": [
    "# np.random.shuffle(data): 원본 변경\n",
    "# np.random.permutation(data): 원본 유지, 수정본 반환\n",
    "# 데이터의 클래스 비율을 유지 할 수 있었으나 이후 랜덤포레스트 구현 시 발생 할 차이를 보기 위해 랜덤으로 유지함.\n",
    "\n",
    "def train_test_split(data, ratio=0.7)-> Tuple[list, list]:\n",
    "    shuffled_data = np.random.permutation(data)\n",
    "    index = int(len(data)*ratio)\n",
    "    return shuffled_data[:index], shuffled_data[index:]"
   ]
  },
  {
   "cell_type": "code",
   "execution_count": 177,
   "metadata": {},
   "outputs": [
    {
     "data": {
      "text/plain": [
       "((105, 6), (45, 6))"
      ]
     },
     "execution_count": 177,
     "metadata": {},
     "output_type": "execute_result"
    }
   ],
   "source": [
    "trainX, trainY = train_test_split(data)\n",
    "trainX.shape, trainY.shape"
   ]
  },
  {
   "cell_type": "code",
   "execution_count": null,
   "metadata": {},
   "outputs": [
    {
     "data": {
      "text/plain": [
       "'\\n결정트리분류 모델 구현\\n손실함수가 필요 없는 모델이며 지니지수를 이용해 데이터를 분류한다.\\n분류에는 2~4 특징을 이용한다. 성능 평가는 ACC(정확도)를 사용한다.\\n연결리스트, 노드를 사용한다.\\nattribute:\\nDB = Decision_Boundary(결정경계) - 모델로 구하고자 하는 목표, 데이터를 분류하는 기준.\\n\\nmaxG = maxG가 작아지도록 결정경계를 설정한다. 기존값은 1. 결정경계를 생성하면서 점점 낮아진다.\\n'"
      ]
     },
     "execution_count": 12,
     "metadata": {},
     "output_type": "execute_result"
    }
   ],
   "source": [
    "\"\"\"\n",
    "결정트리분류 모델 구현\n",
    "손실함수가 필요 없는 모델이며 지니지수를 이용해 데이터를 분류한다.\n",
    "분류에는 2~4 특징을 이용한다. 성능 평가는 ACC(정확도)를 사용한다.\n",
    "연결리스트, 노드를 사용한다.\n",
    "attribute:\n",
    "DB = Decision_Boundary(결정경계) - 모델로 구하고자 하는 목표, 데이터를 분류하는 기준.\n",
    "maxG = maxG가 작아지도록 결정경계를 설정한다. 기존값은 1. 결정경계를 생성하면서 점점 낮아진다.\n",
    "\n",
    "DH = Decision_History - 트리가 클래스를 분류한 기록\n",
    "\"\"\""
   ]
  },
  {
   "cell_type": "code",
   "execution_count": null,
   "metadata": {},
   "outputs": [],
   "source": [
    "class DecisionTreeClassifier:\n",
    "    def __init__(self, depth = 2):\n",
    "        self.data = None\n",
    "        self.depth = depth\n",
    "        self.xLeaf = (3**(depth+1)-2)//2    # 리프 노드를 제외한 노드의 수\n",
    "        self.nNode = (3**(depth+1)-1)//2    # 리프 노드를 포함한 노드의 수\n",
    "        self.DB = np.array([[]]).reshape(-1, self.xLeaf)\n",
    "        # self.history = np.array([]).reshape(self.nNode, -1)\n",
    "        # self.history = np.repeat([[[1],[None]]], self.nNode, axis=0) # (self.nNode, 2, 1) -> [[서브트리 Gini 지수], [분류된 클래스 인덱스]]\n",
    "    \n",
    "    # 서브트리 루트 노드를 받아 최적의 결정경계 산출\n",
    "    # 입력으로 루트 노드의 데이터 인덱스(Id)를 받음\n",
    "    def CART(self, _id):\n",
    "        x = self.data[_id].view()                                          # 데이터 불러오기기\n",
    "        _cnt = np.bincount(x[:, -1])                                       # x GT 요소별 합 _cnt\n",
    "        _maxG = 0\n",
    "        _bd = None\n",
    "\n",
    "        for i in range(1, self.data.shape[1]-1):                           # 특징벡터 만큼 반복\n",
    "            _x = x[np.argsort(x[:, i])]                                    # 단일 특징을 기준으로 정렬된 배열 _x\n",
    "            \n",
    "            for _idx in range(_x.shape[0]):\n",
    "                t1 = np.bincount(_x[:_idx, -1].view()) / _cnt\n",
    "                t1 = np.sum(t1**2)\n",
    "                t2 = np.bincount(_x[_idx:, -1].view()) / _cnt\n",
    "                t2 = np.sum(t2**2)\n",
    "                _G = t1 + t2\n",
    "\n",
    "                if (_G > _maxG):\n",
    "                    _maxG = _G\n",
    "                    if(_idx == 0):\n",
    "                        _bd = None\n",
    "                    else:\n",
    "                        _bd = [i, np.mean(_x[_idx-1:_idx, i]), int(t1 < t2)]       # [,,0] 0이면 t1, 1이면 t2를 한번 더 분할\n",
    "\n",
    "        return _bd\n",
    "\n",
    "    def fit(self, x):\n",
    "        self.data = x\n",
    "        _id = list(range(self.data.shape[0]))\n",
    "        # self.history[0, 1] = np.arange(x.shape[0])\n",
    "\n",
    "        for _node in range(self.xLeaf):\n",
    "            self.CART(_node)        #\n",
    "\n",
    "\n",
    "        history = \"\"\n",
    "\n",
    "        return history\n"
   ]
  },
  {
   "cell_type": "code",
   "execution_count": 137,
   "metadata": {},
   "outputs": [
    {
     "data": {
      "text/plain": [
       "dtype('int32')"
      ]
     },
     "execution_count": 137,
     "metadata": {},
     "output_type": "execute_result"
    }
   ],
   "source": [
    "np.arange(10).dtype"
   ]
  },
  {
   "cell_type": "code",
   "execution_count": 155,
   "metadata": {},
   "outputs": [
    {
     "name": "stdout",
     "output_type": "stream",
     "text": [
      "[]\n"
     ]
    }
   ],
   "source": [
    "a = np.array([[]]).reshape(13,-1)\n",
    "a[0] = 1\n",
    "print(a)"
   ]
  },
  {
   "cell_type": "code",
   "execution_count": null,
   "metadata": {},
   "outputs": [
    {
     "data": {
      "text/plain": [
       "array([4], dtype=object)"
      ]
     },
     "execution_count": 172,
     "metadata": {},
     "output_type": "execute_result"
    }
   ],
   "source": [
    "a = np.repeat([[None]], 3, axis=0)\n",
    "a[1] = 2\n",
    "a[1].\n",
    "a[1]"
   ]
  },
  {
   "cell_type": "code",
   "execution_count": 184,
   "metadata": {},
   "outputs": [
    {
     "data": {
      "text/plain": [
       "(15, 2)"
      ]
     },
     "execution_count": 184,
     "metadata": {},
     "output_type": "execute_result"
    }
   ],
   "source": [
    "#tt = np.repeat([[[1],[None]]], 10, axis=0)\n",
    "tt = np.arange(30).reshape(-1,2)\n",
    "tt[0, 1] = 10\n",
    "tt.shape"
   ]
  },
  {
   "cell_type": "code",
   "execution_count": 185,
   "metadata": {},
   "outputs": [
    {
     "data": {
      "text/plain": [
       "array([[ 0, 10],\n",
       "       [ 8,  9],\n",
       "       [12, 13],\n",
       "       [ 4,  5]])"
      ]
     },
     "execution_count": 185,
     "metadata": {},
     "output_type": "execute_result"
    }
   ],
   "source": [
    "_index = [0,4,6,2]\n",
    "tt[_index]"
   ]
  },
  {
   "cell_type": "code",
   "execution_count": 186,
   "metadata": {},
   "outputs": [
    {
     "data": {
      "text/plain": [
       "[0, 1, 2, 3, 4, 5, 6, 7, 8, 9, 10, 11, 12, 13, 14]"
      ]
     },
     "execution_count": 186,
     "metadata": {},
     "output_type": "execute_result"
    }
   ],
   "source": [
    "list(range(tt.shape[0]))"
   ]
  },
  {
   "cell_type": "code",
   "execution_count": 187,
   "metadata": {},
   "outputs": [
    {
     "data": {
      "text/plain": [
       "(15, 2)"
      ]
     },
     "execution_count": 187,
     "metadata": {},
     "output_type": "execute_result"
    }
   ],
   "source": [
    "tt.shape"
   ]
  },
  {
   "cell_type": "code",
   "execution_count": 233,
   "metadata": {},
   "outputs": [
    {
     "name": "stdout",
     "output_type": "stream",
     "text": [
      "[[3 1 2]\n",
      " [8 1 0]\n",
      " [1 2 0]\n",
      " [7 2 2]\n",
      " [6 3 1]\n",
      " [2 5 1]\n",
      " [5 6 0]\n",
      " [4 7 0]]\n"
     ]
    }
   ],
   "source": [
    "import numpy as np\n",
    "\n",
    "# (5, 3) 형태의 NumPy 배열 (예제 데이터)\n",
    "arr = np.array([\n",
    "    [1, 2, 0],\n",
    "    [2, 5, 1],\n",
    "    [3, 1, 2],\n",
    "    [4, 7, 0],\n",
    "    [5, 6, 0],\n",
    "    [6, 3, 1],\n",
    "    [7, 2, 2],\n",
    "    [8, 1, 0],\n",
    "])\n",
    "\n",
    "# 정렬 기준이 되는 (n,1) 열 선택 (예: 두 번째 열 기준으로 정렬)\n",
    "column_index = 1  # 기준 열 인덱스\n",
    "sorted_indices = np.argsort(arr[:, column_index])  # 기준 열을 정렬한 인덱스\n",
    "\n",
    "# 정렬된 배열\n",
    "sorted_arr = arr[sorted_indices]\n",
    "\n",
    "print(sorted_arr)\n",
    "arr1 = arr[np.argsort(arr[:, 1])][:, [1, -1]]"
   ]
  },
  {
   "cell_type": "code",
   "execution_count": null,
   "metadata": {},
   "outputs": [
    {
     "data": {
      "text/plain": [
       "array([0.625, 1.   , 1.   ])"
      ]
     },
     "execution_count": 246,
     "metadata": {},
     "output_type": "execute_result"
    }
   ],
   "source": [
    "t0 = np.bincount(arr1[:, -1])\n",
    "for _idx in range(arr1.shape[0]):                             \n",
    "    t1 = np.bincount(arr1[:_idx, -1], minlength=3) / t0\n",
    "    t2 = np.bincount(arr1[_idx:, -1], minlength=3) / t0\n",
    "np.add(t1**2, t2**2)"
   ]
  },
  {
   "cell_type": "code",
   "execution_count": 228,
   "metadata": {},
   "outputs": [
    {
     "data": {
      "text/plain": [
       "(array([3, 6, 8, 5]), array([2]))"
      ]
     },
     "execution_count": 228,
     "metadata": {},
     "output_type": "execute_result"
    }
   ],
   "source": [
    "np.bincount(arr[:,-1]), arr[:,-1]\n",
    "arr[:_idx, -1].view(), arr[_idx:, -1].view()"
   ]
  },
  {
   "cell_type": "code",
   "execution_count": 247,
   "metadata": {},
   "outputs": [
    {
     "data": {
      "text/plain": [
       "0"
      ]
     },
     "execution_count": 247,
     "metadata": {},
     "output_type": "execute_result"
    }
   ],
   "source": [
    "t1 = 1; t2 = 2\n",
    "int(t1 > t2)"
   ]
  },
  {
   "cell_type": "code",
   "execution_count": null,
   "metadata": {},
   "outputs": [],
   "source": []
  }
 ],
 "metadata": {
  "kernelspec": {
   "display_name": "medicalai",
   "language": "python",
   "name": "python3"
  },
  "language_info": {
   "codemirror_mode": {
    "name": "ipython",
    "version": 3
   },
   "file_extension": ".py",
   "mimetype": "text/x-python",
   "name": "python",
   "nbconvert_exporter": "python",
   "pygments_lexer": "ipython3",
   "version": "3.8.20"
  }
 },
 "nbformat": 4,
 "nbformat_minor": 2
}
